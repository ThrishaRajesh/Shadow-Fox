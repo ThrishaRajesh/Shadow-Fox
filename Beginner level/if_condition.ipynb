{
 "cells": [
  {
   "cell_type": "markdown",
   "id": "b7893884-2be3-4115-a4f4-97ea10a4176a",
   "metadata": {},
   "source": [
    "<b>Task 1: Write a program to determine the BMI Category based on user input.<br>\n",
    "Ask the user to:<br>\n",
    "Enter height in meters<br>\n",
    "Enter weight in kilograms<br> \n",
    "Calculate BMI using the formula: BMI = weight / (height)<sup>2</sup><br> \n",
    "Use the following categories:<br> \n",
    "If BMI is 30 or greater, print \"Obesity\"<br> \n",
    "If BMI is between 25 and 29, print \"Overweight\"<br>\n",
    "If BMI is between 18.5 and 25, print \"Normal:\"<br> \n",
    "If BMI is less than 18.5, print \"Underweight\"<br>\n",
    "Example:<br> \n",
    "Enter height in meters: 1.75<br>\n",
    "Enter weight in kilograms: 70<br>\n",
    "Output: \"Normal\"</b>"
   ]
  },
  {
   "cell_type": "code",
   "execution_count": 3,
   "id": "f68b0749-77c3-45b3-a95f-4ad9c764b2cf",
   "metadata": {},
   "outputs": [
    {
     "name": "stdin",
     "output_type": "stream",
     "text": [
      "Enter the height in meters:  1.75\n",
      "Enter the weight in kilograms:  70\n"
     ]
    },
    {
     "name": "stdout",
     "output_type": "stream",
     "text": [
      "Normal\n"
     ]
    }
   ],
   "source": [
    "#taking user input\n",
    "height = float(input(\"Enter the height in meters: \"))\n",
    "weight = float(input(\"Enter the weight in kilograms: \"))\n",
    "\n",
    "#calculating BMI\n",
    "BMI = (weight/(height)**2)\n",
    "\n",
    "#checking conditions\n",
    "#no 1\n",
    "if(BMI >= 30):\n",
    "    print(\"Obesity\")\n",
    "\n",
    "\n",
    "#no 2\n",
    "if((BMI > 18.5) & (BMI < 25)):\n",
    "    print(\"Normal\")\n",
    "\n",
    "#no 3\n",
    "if(BMI < 18.5):\n",
    "    print(\"Underweight\")"
   ]
  },
  {
   "cell_type": "markdown",
   "id": "4091f094-57a0-46f3-b235-b34782e79c5b",
   "metadata": {},
   "source": [
    "<b>Task 2: Write a program to determine which country a city belongs to.<br>\n",
    "Given list of cities per country:<br> \n",
    "Australia = [\"Sydney\", \"Melbourne\", \"Brisbane\", \"Perth\"]<br> \n",
    "UAE = [\"Dubai\", \"Abu Dhabi\", \"Sharjah\", \"Ajman\"]<br>\n",
    "India = [\"Mumbai\", \"Bangalore\", \"Chennai\", \"Delhi\"]<br> \n",
    "Ask the user to enter a city name and print the corresponding country.<br>\n",
    "Example:<br>\n",
    "Enter a city name: \"Abu Dhabi\"<br>\n",
    "Output: \"Abu Dhabi is in UAE\"<br></b>"
   ]
  },
  {
   "cell_type": "code",
   "execution_count": 9,
   "id": "c8cc30f1-ea52-41dd-ac36-6b0802c1058c",
   "metadata": {},
   "outputs": [
    {
     "name": "stdin",
     "output_type": "stream",
     "text": [
      "Enter a city name:  Bangalore\n"
     ]
    },
    {
     "name": "stdout",
     "output_type": "stream",
     "text": [
      "Bangalore  is in  India\n"
     ]
    }
   ],
   "source": [
    "#give list of cities per cpuntry\n",
    "Australia = [\"Sydney\", \"Melbourne\", \"Brisbane\", \"Perth\"]\n",
    "UAE = [\"Dubai\", \"Abu Dhabi\", \"Sharjah\", \"Ajman\"]\n",
    "India = [\"Mumbai\", \"Bangalore\", \"Chennai\", \"Delhi\"]\n",
    "\n",
    "#user input\n",
    "check = input(\"Enter a city name: \")\n",
    "\n",
    "#checking conditions\n",
    "if check in Australia:\n",
    "    print(check,\" is in \",\"Australia\")\n",
    "\n",
    "if check in UAE:\n",
    "    print(check,\" is in \",\"UAE\")\n",
    "\n",
    "if check in India:\n",
    "    print(check,\" is in \",\"India\")"
   ]
  },
  {
   "cell_type": "markdown",
   "id": "4a735532-2993-481a-bdae-6711f57ede7a",
   "metadata": {},
   "source": [
    "<b>Task 3: Write a program to check if two cities belong to the same country.<br>\n",
    "Ask the user to enter two cities and print whether they belong to the same country or not.<br>\n",
    "Example:<br>\n",
    "Enter the first city: \"Mumbai\"<br> \n",
    "Enter the second city: \"Chennai\"<br>\n",
    "Output: \"Both cities are in India\"<br>\n",
    "Example:<br>\n",
    "Enter the first city: \"Sydney\"<br>\n",
    "Enter the second city: \"Dubai\"<br>\n",
    "Output: \"They don't belong to the same country\"<br></b>"
   ]
  },
  {
   "cell_type": "code",
   "execution_count": 11,
   "id": "6e2f3601-8926-43e3-bf2f-6f002d2e7226",
   "metadata": {},
   "outputs": [
    {
     "name": "stdin",
     "output_type": "stream",
     "text": [
      "Enter the first city:  Dubai\n",
      "Enter the second city:  Dubai\n"
     ]
    },
    {
     "name": "stdout",
     "output_type": "stream",
     "text": [
      "They belong to the same country\n"
     ]
    }
   ],
   "source": [
    "#taking user input\n",
    "city1 = input(\"Enter the first city: \")\n",
    "city2 = input(\"Enter the second city: \")\n",
    "\n",
    "#checking condition\n",
    "if (city1 == city2):\n",
    "    print(\"They belong to the same country\")\n",
    "\n",
    "else:\n",
    "    print(\"They don't belong to the same country\")"
   ]
  },
  {
   "cell_type": "markdown",
   "id": "1d7e5b7c-6d74-4415-b40e-c671fd1a0d06",
   "metadata": {},
   "source": []
  }
 ],
 "metadata": {
  "kernelspec": {
   "display_name": "Python 3 (ipykernel)",
   "language": "python",
   "name": "python3"
  },
  "language_info": {
   "codemirror_mode": {
    "name": "ipython",
    "version": 3
   },
   "file_extension": ".py",
   "mimetype": "text/x-python",
   "name": "python",
   "nbconvert_exporter": "python",
   "pygments_lexer": "ipython3",
   "version": "3.12.7"
  }
 },
 "nbformat": 4,
 "nbformat_minor": 5
}
