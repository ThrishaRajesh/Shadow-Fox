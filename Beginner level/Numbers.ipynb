{
 "cells": [
  {
   "cell_type": "markdown",
   "id": "0987c6a9-96c1-4e24-a4fc-f60b0d6de5ef",
   "metadata": {},
   "source": [
    "<b>Task 1: Write a function that takes two arguments, 145 and 'o', anduses the `format` function to return a formatted string. Print the result. Try to identify the representation used.</b>"
   ]
  },
  {
   "cell_type": "code",
   "execution_count": 1,
   "id": "b967c571-b893-47cc-8296-b702aa9f86f1",
   "metadata": {},
   "outputs": [
    {
     "name": "stdout",
     "output_type": "stream",
     "text": [
      "Formatted Result:  221\n"
     ]
    }
   ],
   "source": [
    "#define the function\n",
    "def format_number(value, format_sp):\n",
    "    return format(value, format_sp)\n",
    "\n",
    "#function call\n",
    "result = format_number(145, 'o') # converts decimal 145 to octal representation\n",
    "\n",
    "#print the formated string\n",
    "print(\"Formatted Result: \",result)"
   ]
  },
  {
   "cell_type": "markdown",
   "id": "3c6bff9a-e35b-4c92-a51d-4554848dd5d8",
   "metadata": {},
   "source": [
    "<b>Task 2: In a village, there is a circular pond with a radius of 84 meters.\n",
    "Calculate the area of the pond using the formula: Circle Area = πr^2. \n",
    "(Use the value 3.14 for π) Bonus Question: If there is exactly 1.4 liters of water in a square meter, what is the total amount of water in the pond?   Print the answer without any decimal point in it. Hint: Circle Area = π r^2 ; Water in the pond = Pond Area Water per Square Meter</b>"
   ]
  },
  {
   "cell_type": "code",
   "execution_count": 4,
   "id": "1e56f408-29ae-474c-b20e-7fb1730f869f",
   "metadata": {},
   "outputs": [
    {
     "name": "stdout",
     "output_type": "stream",
     "text": [
      "Circular pond area:  22155.84 square meters\n",
      "Total amount of water in the pond:  31018  liters \n"
     ]
    }
   ],
   "source": [
    "#dimensions required \n",
    "radius = 84\n",
    "pi = 3.14 \n",
    "\n",
    "#calculate the pond area\n",
    "area = pi * radius**2\n",
    "\n",
    "#print the pond area in sq. m\n",
    "print(\"Circular pond area: \",area, \"square meters\")\n",
    "\n",
    "#total amount of water in the pond\n",
    "water_per_sq_m = 1.4\n",
    "total_amt_water = 1.4 * area \n",
    "\n",
    "#print the result without decimal points\n",
    "print(\"Total amount of water in the pond: \",int(total_amt_water),\" liters \")"
   ]
  },
  {
   "cell_type": "markdown",
   "id": "73e53ba5-2237-47ff-b640-5df03ed778f6",
   "metadata": {},
   "source": [
    "<b>Task 3: If you cross a 490 meter long street in 7 minutes, calculate your speed in meters per second. Print the answer without any decimal point in it. Hint: Speed = Distance / Time</b>"
   ]
  },
  {
   "cell_type": "code",
   "execution_count": 5,
   "id": "f512a90c-68ad-4c5a-912a-3a9d386751b0",
   "metadata": {},
   "outputs": [
    {
     "name": "stdout",
     "output_type": "stream",
     "text": [
      "Speed calculated:  1  meters per second\n"
     ]
    }
   ],
   "source": [
    "#dimensions provided\n",
    "street_length = 490 \n",
    "time = 7 * 60 \n",
    "\n",
    "#calculating speed in m/s\n",
    "speed = street_length / time \n",
    "\n",
    "#pint the result\n",
    "print(\"Speed calculated: \",int(speed),\" meters per second\")"
   ]
  },
  {
   "cell_type": "markdown",
   "id": "8ebddd41-0ac5-49e6-8ee0-b3468f46056b",
   "metadata": {},
   "source": []
  }
 ],
 "metadata": {
  "kernelspec": {
   "display_name": "Python 3 (ipykernel)",
   "language": "python",
   "name": "python3"
  },
  "language_info": {
   "codemirror_mode": {
    "name": "ipython",
    "version": 3
   },
   "file_extension": ".py",
   "mimetype": "text/x-python",
   "name": "python",
   "nbconvert_exporter": "python",
   "pygments_lexer": "ipython3",
   "version": "3.12.7"
  }
 },
 "nbformat": 4,
 "nbformat_minor": 5
}
