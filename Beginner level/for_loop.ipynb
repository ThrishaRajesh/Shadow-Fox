{
 "cells": [
  {
   "cell_type": "markdown",
   "id": "e69e7ed1-2237-47d8-baf1-79dd136f4bf9",
   "metadata": {},
   "source": [
    "<b>Task 1: Using a for loop, simulate rolling a six - sided die multiple times (at least 20 times).<br>\n",
    "Count and print the following statistics:<br>\n",
    "How many times you rolled a 6<br>\n",
    "How many times you rolled a 1<br>\n",
    "How many times you rolled two 6s in a row<br></b>"
   ]
  },
  {
   "cell_type": "code",
   "execution_count": 5,
   "id": "c1a46c8a-4d6a-4718-8ae4-b116cdf22866",
   "metadata": {},
   "outputs": [
    {
     "name": "stdout",
     "output_type": "stream",
     "text": [
      "Roll  1  :  4\n",
      "Roll  2  :  5\n",
      "Roll  3  :  6\n",
      "Roll  4  :  3\n",
      "Roll  5  :  6\n",
      "Roll  6  :  5\n",
      "Roll  7  :  1\n",
      "Roll  8  :  4\n",
      "Roll  9  :  6\n",
      "Roll  10  :  2\n",
      "Roll  11  :  4\n",
      "Roll  12  :  3\n",
      "Roll  13  :  3\n",
      "Roll  14  :  1\n",
      "Roll  15  :  6\n",
      "Roll  16  :  2\n",
      "Roll  17  :  3\n",
      "Roll  18  :  4\n",
      "Roll  19  :  3\n",
      "Roll  20  :  3\n",
      "\n",
      "Results:\n",
      "Total number of sixes:  4\n",
      "Total number of ones:  2\n",
      "total number of 2 sixes in a row:  0\n"
     ]
    }
   ],
   "source": [
    "import random\n",
    "\n",
    "num_rolls = 20\n",
    "\n",
    "#counters\n",
    "count_six = 0\n",
    "count_one = 0\n",
    "count_2_sixes = 0\n",
    "\n",
    "prev_roll = 0\n",
    "\n",
    "for i in range(num_rolls):\n",
    "    roll = random.randint(1,6)\n",
    "    print(\"Roll \",i+1,\" : \",roll)\n",
    "\n",
    "    if roll == 6:\n",
    "        count_six +=1\n",
    "    if roll == 1:\n",
    "        count_one +=1\n",
    "    if roll == 6 and prev_roll == 6:\n",
    "        count_2_sixes +=1\n",
    "\n",
    "    prev_roll = roll\n",
    "\n",
    "print(\"\\nResults:\")\n",
    "print(\"Total number of sixes: \",count_six)\n",
    "print(\"Total number of ones: \",count_one)\n",
    "print(\"total number of 2 sixes in a row: \",count_2_sixes)"
   ]
  },
  {
   "cell_type": "markdown",
   "id": "d063e814-e7a8-4e8a-8343-b83f7166a65c",
   "metadata": {},
   "source": [
    "<b>Task 2: Imagine you are doing a workout routine, and you have to complete 100 jumping jacks.<br>\n",
    "Write a program that: <br>\n",
    "Asks you to perform 10 jumping jacks at a time. <br>\n",
    "After each set, it asks, \"Are you tired?\" <br>\n",
    "<br>\n",
    "If you reply \"yes\" or \"y,\" it should ask if you want to skip the remaining sets. <br>\n",
    "If you reply \"yes\" or \"y,\" it should break and print, \"You completed a total of jumping jacks.\" <br>\n",
    "<br>\n",
    "For example, if you did only 30 jumping jacks and answered \"yes,\" the program will break and print, \"You completed a total of 30 jumping jacks.\" <br>\n",
    "If you reply \"no\" or \"n,\" it should continue and display how many jumping jacks are remaining. After that, ask you again, \"Are you tired?\"<br>\n",
    "<br>\n",
    "For example, if you answered \"no,\" it should display that 70 jumping jacks are remaining and ask you again, \"Are you tired?\" <br>\n",
    "If you reply \"no\" or \"n,\" it should continue and display how many jumping jacks are remaining. After that, ask you again, \"Are you tired?\" <br>\n",
    "<br>\n",
    "For example, if you answered \"no,\" it should display that 70 jumping jacks are remaining and ask you again, \"Are you tired?\" <br>\n",
    "If you complete all 100 jumping jacks, it should print, \"Congratulations! You completed the workout,\" and stop the program<br></b>"
   ]
  },
  {
   "cell_type": "code",
   "execution_count": 8,
   "id": "1941af99-96f1-4149-8bf3-a025adc70e52",
   "metadata": {},
   "outputs": [
    {
     "name": "stdout",
     "output_type": "stream",
     "text": [
      "You did 10 jumping jacks\n"
     ]
    },
    {
     "name": "stdin",
     "output_type": "stream",
     "text": [
      "Are you tired? (yes/no):  n\n"
     ]
    },
    {
     "name": "stdout",
     "output_type": "stream",
     "text": [
      "90 jumping jacks remaining\n",
      "You did 20 jumping jacks\n"
     ]
    },
    {
     "name": "stdin",
     "output_type": "stream",
     "text": [
      "Are you tired? (yes/no):  n\n"
     ]
    },
    {
     "name": "stdout",
     "output_type": "stream",
     "text": [
      "80 jumping jacks remaining\n",
      "You did 30 jumping jacks\n"
     ]
    },
    {
     "name": "stdin",
     "output_type": "stream",
     "text": [
      "Are you tired? (yes/no):  n\n"
     ]
    },
    {
     "name": "stdout",
     "output_type": "stream",
     "text": [
      "70 jumping jacks remaining\n",
      "You did 40 jumping jacks\n"
     ]
    },
    {
     "name": "stdin",
     "output_type": "stream",
     "text": [
      "Are you tired? (yes/no):  n\n"
     ]
    },
    {
     "name": "stdout",
     "output_type": "stream",
     "text": [
      "60 jumping jacks remaining\n",
      "You did 50 jumping jacks\n"
     ]
    },
    {
     "name": "stdin",
     "output_type": "stream",
     "text": [
      "Are you tired? (yes/no):  n\n"
     ]
    },
    {
     "name": "stdout",
     "output_type": "stream",
     "text": [
      "50 jumping jacks remaining\n",
      "You did 60 jumping jacks\n"
     ]
    },
    {
     "name": "stdin",
     "output_type": "stream",
     "text": [
      "Are you tired? (yes/no):  n\n"
     ]
    },
    {
     "name": "stdout",
     "output_type": "stream",
     "text": [
      "40 jumping jacks remaining\n",
      "You did 70 jumping jacks\n"
     ]
    },
    {
     "name": "stdin",
     "output_type": "stream",
     "text": [
      "Are you tired? (yes/no):  n\n"
     ]
    },
    {
     "name": "stdout",
     "output_type": "stream",
     "text": [
      "30 jumping jacks remaining\n",
      "You did 80 jumping jacks\n"
     ]
    },
    {
     "name": "stdin",
     "output_type": "stream",
     "text": [
      "Are you tired? (yes/no):  n\n"
     ]
    },
    {
     "name": "stdout",
     "output_type": "stream",
     "text": [
      "20 jumping jacks remaining\n",
      "You did 90 jumping jacks\n"
     ]
    },
    {
     "name": "stdin",
     "output_type": "stream",
     "text": [
      "Are you tired? (yes/no):  n\n"
     ]
    },
    {
     "name": "stdout",
     "output_type": "stream",
     "text": [
      "10 jumping jacks remaining\n",
      "You did 100 jumping jacks\n",
      "Congratulations! You completed the workout\n"
     ]
    }
   ],
   "source": [
    "total = 100\n",
    "done = 0\n",
    "\n",
    "while done < total:\n",
    "    done += 10\n",
    "    print(\"You did\", done, \"jumping jacks\")\n",
    "\n",
    "    if done == total:\n",
    "        print(\"Congratulations! You completed the workout\")\n",
    "        break\n",
    "\n",
    "    tired = input(\"Are you tired? (yes/no): \").lower()\n",
    "\n",
    "    if tired == \"yes\" or tired == \"y\":\n",
    "        skip = input(\"Do you want to skip the remaining sets? (yes/no): \").lower()\n",
    "        if skip == \"yes\" or skip == \"y\":\n",
    "            print(\"You completed a total of\", done, \"jumping jacks\")\n",
    "            break\n",
    "    else:\n",
    "        print(total - done, \"jumping jacks remaining\")"
   ]
  },
  {
   "cell_type": "markdown",
   "id": "0e26a1e4-eef4-4729-9dd9-edac90856498",
   "metadata": {},
   "source": []
  }
 ],
 "metadata": {
  "kernelspec": {
   "display_name": "Python 3 (ipykernel)",
   "language": "python",
   "name": "python3"
  },
  "language_info": {
   "codemirror_mode": {
    "name": "ipython",
    "version": 3
   },
   "file_extension": ".py",
   "mimetype": "text/x-python",
   "name": "python",
   "nbconvert_exporter": "python",
   "pygments_lexer": "ipython3",
   "version": "3.12.7"
  }
 },
 "nbformat": 4,
 "nbformat_minor": 5
}
