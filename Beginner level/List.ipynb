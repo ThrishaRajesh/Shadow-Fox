{
 "cells": [
  {
   "cell_type": "markdown",
   "id": "32dcdd88-072e-4aa0-b122-97c855653d0d",
   "metadata": {},
   "source": [
    "<b>Task 1: You have a list of superheroes representing the Justice League. \n",
    "justice_league = [\"Superman\", \"Batman\", \"Wonder Woman\", \"Flash\", \"Aquaman\", \"Green Lantern\"] \n",
    "Perform the following tasks: \n",
    "1. Calculate the number of members in the Justice League. \n",
    "2. Batman recruited Batgirl and Nightwing as new members. Add them to your list. \n",
    "3. Wonder Woman is now the leader of the Justice League. Move her to the beginning of the list. \n",
    "4. Aquaman and Flash are having conflicts, and you need to separate them. Choose either \"Green Lantern\" or \"Superman\" and move them in between Aquaman and Flash. \n",
    "5. The Justice League faced a crisis, and Superman decided to assemble a new team. Replace the existing list with the following new members: \"Cyborg\", \"Shazam\", \"Hawkgirl\", \"Martian Manhunter\", \"Green Arrow\". \n",
    "6. Sort the Justice League alphabetically. The hero at the 0th index will become the new leader. \n",
    "(BONUS: Can you predict who the new leader will be?) \n",
    "Your task is to write Python code to perform these operations on the \"justice_league\" list. Display the list at each step to observe the changes.</b>"
   ]
  },
  {
   "cell_type": "code",
   "execution_count": 13,
   "id": "befe2e31-b9f0-4d05-a7dc-688559f48a03",
   "metadata": {},
   "outputs": [
    {
     "name": "stdout",
     "output_type": "stream",
     "text": [
      "The number of members in the Justice League:  6\n",
      "\n",
      "Justice League with new members:  ['Superman', 'Batman', 'Wonder Woman', 'Flash', 'Aquaman', 'Green Lantern', 'Batgirl', 'Nightwing']\n",
      "\n",
      "Justice League with 'Wonder Woman' as the leader:  ['Wonder Woman', 'Superman', 'Batman', 'Flash', 'Aquaman', 'Green Lantern', 'Batgirl', 'Nightwing']\n",
      "\n",
      "Justice League with Aquaman and Flash seperated by Superman:  ['Wonder Woman', 'Batman', 'Flash', 'Superman', 'Aquaman', 'Green Lantern', 'Batgirl', 'Nightwing']\n",
      "\n",
      "Updated Justice League with new members:  ['Cyborg', 'Shazam', 'Hawkgirl', 'Martian Manhunter', 'Green Arrow']\n",
      "\n",
      "Sorted Justice League:  ['Cyborg', 'Green Arrow', 'Hawkgirl', 'Martian Manhunter', 'Shazam']\n",
      "New leader of the justice league:  Cyborg\n"
     ]
    }
   ],
   "source": [
    "justice_league = [\"Superman\", \"Batman\", \"Wonder Woman\", \"Flash\", \"Aquaman\", \"Green Lantern\"]\n",
    "\n",
    "#step 1: calculate the length of the list - number of members in the league\n",
    "len_league = len(justice_league)\n",
    "print(\"The number of members in the Justice League: \",len_league)\n",
    "\n",
    "#step 2: adding 'Batgirl' and 'Nightwing' \n",
    "justice_league.append(\"Batgirl\")\n",
    "justice_league.append(\"Nightwing\")\n",
    "print(\"\\nJustice League with new members: \",justice_league)\n",
    "\n",
    "#step 3: Move 'Wonder Woman' to the list beginning\n",
    "justice_league.remove(\"Wonder Woman\")\n",
    "justice_league.insert(0, \"Wonder Woman\")\n",
    "print(\"\\nJustice League with \\'Wonder Woman\\' as the leader: \",justice_league)\n",
    "\n",
    "#step 4: Seperate Aquaman and Flash by inserting Superman in between\n",
    "justice_league.remove(\"Superman\")\n",
    "flash_index = justice_league.index(\"Flash\")\n",
    "justice_league.insert(flash_index+1, \"Superman\")\n",
    "print(\"\\nJustice League with Aquaman and Flash seperated by Superman: \",justice_league)\n",
    "\n",
    "#step 5: Updated league\n",
    "justice_league = [\"Cyborg\", \"Shazam\", \"Hawkgirl\", \"Martian Manhunter\", \"Green Arrow\"]\n",
    "print(\"\\nUpdated Justice League with new members: \",justice_league)\n",
    "\n",
    "#step 6: sorting the league alphabetically\n",
    "justice_league.sort()\n",
    "print(\"\\nSorted Justice League: \",justice_league)\n",
    "print(\"New leader of the justice league: \",justice_league[0])"
   ]
  },
  {
   "cell_type": "code",
   "execution_count": null,
   "id": "289b6cc5-0bf8-4787-8096-ed87158fcbac",
   "metadata": {},
   "outputs": [],
   "source": []
  }
 ],
 "metadata": {
  "kernelspec": {
   "display_name": "Python 3 (ipykernel)",
   "language": "python",
   "name": "python3"
  },
  "language_info": {
   "codemirror_mode": {
    "name": "ipython",
    "version": 3
   },
   "file_extension": ".py",
   "mimetype": "text/x-python",
   "name": "python",
   "nbconvert_exporter": "python",
   "pygments_lexer": "ipython3",
   "version": "3.12.7"
  }
 },
 "nbformat": 4,
 "nbformat_minor": 5
}
