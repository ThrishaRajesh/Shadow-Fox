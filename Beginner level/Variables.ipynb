{
 "cells": [
  {
   "cell_type": "markdown",
   "id": "d6b91998-3685-43c1-ada7-3da5aeac2765",
   "metadata": {},
   "source": [
    "<b>Task 1: Create a variable named pi and store the value 22/7 in it. Now check the data type of this variable.</b>"
   ]
  },
  {
   "cell_type": "code",
   "execution_count": 1,
   "id": "ecbeb6d8-f0db-4a46-8080-9062dc2681d8",
   "metadata": {},
   "outputs": [
    {
     "name": "stdout",
     "output_type": "stream",
     "text": [
      "The value of pi:  3.142857142857143\n",
      "Data type of pi:  <class 'float'>\n"
     ]
    }
   ],
   "source": [
    "#creating variable named pi and storing 22/7 value in it\n",
    "pi = 22/7\n",
    "\n",
    "#print pi value\n",
    "print(\"The value of pi: \",pi)\n",
    "\n",
    "#check it's datatype\n",
    "print(\"Data type of pi: \",type(pi))"
   ]
  },
  {
   "cell_type": "markdown",
   "id": "d721633f-e11f-4e3f-be66-c28ad29af26b",
   "metadata": {},
   "source": [
    "<b>Task 2: Create a variable called for and assign it a value 4. See what happens and find out the reason behind the behavior that you see.</b>"
   ]
  },
  {
   "cell_type": "code",
   "execution_count": 4,
   "id": "7ed7befd-5b67-41c0-aac4-426acebfa409",
   "metadata": {},
   "outputs": [
    {
     "ename": "SyntaxError",
     "evalue": "invalid syntax (3543888533.py, line 2)",
     "output_type": "error",
     "traceback": [
      "\u001b[1;36m  Cell \u001b[1;32mIn[4], line 2\u001b[1;36m\u001b[0m\n\u001b[1;33m    for = 4\u001b[0m\n\u001b[1;37m        ^\u001b[0m\n\u001b[1;31mSyntaxError\u001b[0m\u001b[1;31m:\u001b[0m invalid syntax\n"
     ]
    }
   ],
   "source": [
    "#creating 'for' named variable and assigning it a value \n",
    "for = 4\n",
    "\n",
    "#trying to print it\n",
    "print(for)\n",
    "\n",
    "#results in a Syntax Error since 'for' is a reserved keyword in Python which can't be used as variable names"
   ]
  },
  {
   "cell_type": "markdown",
   "id": "6ec45437-9fb1-42e4-bfb3-aab3c227596a",
   "metadata": {},
   "source": [
    "<b>Task 3: Store the principal amount, rate of interest, and time in different variables and then calculate the Simple Interest for 3 years. Formula: Simple Interest = P x R x T / 100</b>"
   ]
  },
  {
   "cell_type": "code",
   "execution_count": 5,
   "id": "efc85fb1-71d9-4b89-b8f6-2a2b6ca6aeba",
   "metadata": {},
   "outputs": [
    {
     "name": "stdout",
     "output_type": "stream",
     "text": [
      "Simple Interest calculated:  1500.0\n"
     ]
    }
   ],
   "source": [
    "#store the values\n",
    "principal_amt = 10000\n",
    "rate_of_interest = 5\n",
    "time = 3\n",
    "\n",
    "#calculating Simple Interest\n",
    "SI = (principal_amt * rate_of_interest * time)/100\n",
    "\n",
    "#print the SI\n",
    "print(\"Simple Interest calculated: \",SI)"
   ]
  },
  {
   "cell_type": "markdown",
   "id": "02e02bdd-c798-45d4-bd64-4a079e41ec5e",
   "metadata": {},
   "source": []
  }
 ],
 "metadata": {
  "kernelspec": {
   "display_name": "Python 3 (ipykernel)",
   "language": "python",
   "name": "python3"
  },
  "language_info": {
   "codemirror_mode": {
    "name": "ipython",
    "version": 3
   },
   "file_extension": ".py",
   "mimetype": "text/x-python",
   "name": "python",
   "nbconvert_exporter": "python",
   "pygments_lexer": "ipython3",
   "version": "3.12.7"
  }
 },
 "nbformat": 4,
 "nbformat_minor": 5
}
