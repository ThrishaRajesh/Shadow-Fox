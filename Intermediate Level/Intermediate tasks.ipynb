{
 "cells": [
  {
   "cell_type": "markdown",
   "id": "a281ebe3-1abc-486f-8204-f88dd4453006",
   "metadata": {},
   "source": [
    "<h3><b>Q.1 Web Scraper: Extract data from websites using libraries like Beautiful Soup or Scrapy.</b></h3>"
   ]
  },
  {
   "cell_type": "code",
   "execution_count": 1,
   "id": "fd057d40-6d86-4036-9bbe-fcc09da40fa8",
   "metadata": {},
   "outputs": [
    {
     "name": "stdout",
     "output_type": "stream",
     "text": [
      "Extracted text from website:\n",
      "\n",
      "Top Engineering College in Bangalore, India - BNMIT Enquire Now Apply Now NBA NAAC NIRF Rankings AICTE Centers of Excellence Media II CELL ED CELL Exams Career Contact Home NBA About About Founders Vision And Mission Governing Body Committees Campus Tour Leadership Chairman & Secretary Dean & Trustee Director Additional Director and Principal Deputy Director Ranks & Gold medals Patents MOUs Innovations @BNMIT NewGen IEDC IIC ARIIA CIPR Startups Experimental Entrepreneurship Programme Industry Academia Collaborations BNMIT Policies Undertaking Infrastructure Main Block New Block Auditorium Block S Block Departments UG Programmes Artificial Intelligence & Machine Learning Computer Science & Engineering Electronics & Communication Engineering Electrical & Electronics Engineering Information Science & Engineering Mechanical Engineering Department of Mathematics Department of Physics Department of Chemistry Department of Humanities PG Programmes Department of Business Administration M.Tech \n"
     ]
    }
   ],
   "source": [
    "import requests\n",
    "from bs4 import BeautifulSoup\n",
    "\n",
    "def scrape_text(url):\n",
    "    try:\n",
    "        # Fetch the webpage\n",
    "        response = requests.get(url, timeout=10)\n",
    "        response.raise_for_status()  # raise error for bad status\n",
    "        soup = BeautifulSoup(response.content, \"html.parser\")\n",
    "\n",
    "        # Remove scripts and styles\n",
    "        for tag in soup([\"script\", \"style\"]):\n",
    "            tag.extract()\n",
    "\n",
    "        # Get text content\n",
    "        text = soup.get_text(separator=\" \", strip=True)\n",
    "        return text\n",
    "\n",
    "    except Exception as e:\n",
    "        return f\"Error occurred: {e}\"\n",
    "\n",
    "url = \"https://www.bnmit.org/\"\n",
    "scraped_text = scrape_text(url)\n",
    "\n",
    "print(\"Extracted text from website:\\n\")\n",
    "print(scraped_text[:1000])  "
   ]
  },
  {
   "cell_type": "markdown",
   "id": "39ddd251-fb20-4349-9c5b-11bff47b5f5b",
   "metadata": {},
   "source": [
    "<h3><b>Q.2 Hangman: Implement the wordguessing game with visual progress and hints.</b></h3>"
   ]
  },
  {
   "cell_type": "code",
   "execution_count": 7,
   "id": "bd5c0775-5af2-4020-986a-4b13e97379c1",
   "metadata": {},
   "outputs": [
    {
     "name": "stdout",
     "output_type": "stream",
     "text": [
      "Welcome to Hangman!\n",
      "Hint: Wild animal\n",
      "\n",
      "Word: _ _ _ _ _\n",
      "\n",
      "      +---+\n",
      "          |\n",
      "          |\n",
      "          |\n",
      "         ===\n"
     ]
    },
    {
     "name": "stdin",
     "output_type": "stream",
     "text": [
      "Guess a letter:  r\n"
     ]
    },
    {
     "name": "stdout",
     "output_type": "stream",
     "text": [
      "Good job! 'r' is in the word.\n",
      "\n",
      "Word: _ _ _ _ r\n",
      "\n",
      "      +---+\n",
      "          |\n",
      "          |\n",
      "          |\n",
      "         ===\n"
     ]
    },
    {
     "name": "stdin",
     "output_type": "stream",
     "text": [
      "Guess a letter:  t\n"
     ]
    },
    {
     "name": "stdout",
     "output_type": "stream",
     "text": [
      "Good job! 't' is in the word.\n",
      "\n",
      "Word: t _ _ _ r\n",
      "\n",
      "      +---+\n",
      "          |\n",
      "          |\n",
      "          |\n",
      "         ===\n"
     ]
    },
    {
     "name": "stdin",
     "output_type": "stream",
     "text": [
      "Guess a letter:  y\n"
     ]
    },
    {
     "name": "stdout",
     "output_type": "stream",
     "text": [
      "Sorry! 'y' is not in the word.\n",
      "\n",
      "Word: t _ _ _ r\n",
      "\n",
      "      +---+\n",
      "      O   |\n",
      "          |\n",
      "          |\n",
      "         ===\n"
     ]
    },
    {
     "name": "stdin",
     "output_type": "stream",
     "text": [
      "Guess a letter:  o\n"
     ]
    },
    {
     "name": "stdout",
     "output_type": "stream",
     "text": [
      "Sorry! 'o' is not in the word.\n",
      "\n",
      "Word: t _ _ _ r\n",
      "\n",
      "      +---+\n",
      "      O   |\n",
      "      |   |\n",
      "          |\n",
      "         ===\n"
     ]
    },
    {
     "name": "stdin",
     "output_type": "stream",
     "text": [
      "Guess a letter:  p\n"
     ]
    },
    {
     "name": "stdout",
     "output_type": "stream",
     "text": [
      "Sorry! 'p' is not in the word.\n",
      "\n",
      "Word: t _ _ _ r\n",
      "\n",
      "      +---+\n",
      "      O   |\n",
      "     /|   |\n",
      "          |\n",
      "         ===\n"
     ]
    },
    {
     "name": "stdin",
     "output_type": "stream",
     "text": [
      "Guess a letter:  e\n"
     ]
    },
    {
     "name": "stdout",
     "output_type": "stream",
     "text": [
      "Good job! 'e' is in the word.\n",
      "\n",
      "Word: t _ _ e r\n",
      "\n",
      "      +---+\n",
      "      O   |\n",
      "     /|   |\n",
      "          |\n",
      "         ===\n"
     ]
    },
    {
     "name": "stdin",
     "output_type": "stream",
     "text": [
      "Guess a letter:  g\n"
     ]
    },
    {
     "name": "stdout",
     "output_type": "stream",
     "text": [
      "Good job! 'g' is in the word.\n",
      "\n",
      "Word: t _ g e r\n",
      "\n",
      "      +---+\n",
      "      O   |\n",
      "     /|   |\n",
      "          |\n",
      "         ===\n"
     ]
    },
    {
     "name": "stdin",
     "output_type": "stream",
     "text": [
      "Guess a letter:  h\n"
     ]
    },
    {
     "name": "stdout",
     "output_type": "stream",
     "text": [
      "Sorry! 'h' is not in the word.\n",
      "\n",
      "Word: t _ g e r\n",
      "\n",
      "      +---+\n",
      "      O   |\n",
      "     /|\\  |\n",
      "          |\n",
      "         ===\n"
     ]
    },
    {
     "name": "stdin",
     "output_type": "stream",
     "text": [
      "Guess a letter:  z\n"
     ]
    },
    {
     "name": "stdout",
     "output_type": "stream",
     "text": [
      "Sorry! 'z' is not in the word.\n",
      "\n",
      "Word: t _ g e r\n",
      "\n",
      "      +---+\n",
      "      O   |\n",
      "     /|\\  |\n",
      "     /    |\n",
      "         ===\n"
     ]
    },
    {
     "name": "stdin",
     "output_type": "stream",
     "text": [
      "Guess a letter:  f\n"
     ]
    },
    {
     "name": "stdout",
     "output_type": "stream",
     "text": [
      "Sorry! 'f' is not in the word.\n",
      "\n",
      "      +---+\n",
      "      O   |\n",
      "     /|\\  |\n",
      "     / \\  |\n",
      "         ===\n",
      "\n",
      "Game Over! The word was: tiger\n"
     ]
    }
   ],
   "source": [
    "import random\n",
    "\n",
    "# Hangman stages\n",
    "HANGMAN_PICS = [\n",
    "    \"\"\"\n",
    "      +---+\n",
    "          |\n",
    "          |\n",
    "          |\n",
    "         ===\"\"\",\n",
    "    \"\"\"\n",
    "      +---+\n",
    "      O   |\n",
    "          |\n",
    "          |\n",
    "         ===\"\"\",\n",
    "    \"\"\"\n",
    "      +---+\n",
    "      O   |\n",
    "      |   |\n",
    "          |\n",
    "         ===\"\"\",\n",
    "    \"\"\"\n",
    "      +---+\n",
    "      O   |\n",
    "     /|   |\n",
    "          |\n",
    "         ===\"\"\",\n",
    "    \"\"\"\n",
    "      +---+\n",
    "      O   |\n",
    "     /|\\\\  |\n",
    "          |\n",
    "         ===\"\"\",\n",
    "    \"\"\"\n",
    "      +---+\n",
    "      O   |\n",
    "     /|\\\\  |\n",
    "     /    |\n",
    "         ===\"\"\",\n",
    "    \"\"\"\n",
    "      +---+\n",
    "      O   |\n",
    "     /|\\\\  |\n",
    "     / \\\\  |\n",
    "         ===\"\"\",\n",
    "]\n",
    "\n",
    "# Word bank with hints\n",
    "WORD_BANK = {\n",
    "    \"python\": \"Programming language\",\n",
    "    \"tiger\": \"Wild animal\",\n",
    "    \"guitar\": \"Musical instrument\",\n",
    "    \"banana\": \"Yellow fruit\",\n",
    "    \"earth\": \"Our planet\"\n",
    "}\n",
    "\n",
    "def play_hangman():\n",
    "    word, hint = random.choice(list(WORD_BANK.items())) \n",
    "    guessed = set()   \n",
    "    wrong_guesses = 0\n",
    "    max_attempts = len(HANGMAN_PICS) - 1\n",
    "\n",
    "    print(\"Welcome to Hangman!\")\n",
    "    print(f\"Hint: {hint}\")\n",
    "\n",
    "    # Game loop\n",
    "    while wrong_guesses < max_attempts:\n",
    "        # Display progress\n",
    "        display_word = \" \".join([letter if letter in guessed else \"_\" for letter in word])\n",
    "        print(\"\\nWord:\", display_word)\n",
    "        print(HANGMAN_PICS[wrong_guesses])\n",
    "\n",
    "        # Check win condition\n",
    "        if all(letter in guessed for letter in word):\n",
    "            print(\"\\nCongratulations! You guessed the word:\", word)\n",
    "            break\n",
    "\n",
    "        # Player input\n",
    "        guess = input(\"Guess a letter: \").lower()\n",
    "        \n",
    "        if len(guess) != 1 or not guess.isalpha():\n",
    "            print(\"Please enter a single letter.\")\n",
    "            continue\n",
    "\n",
    "        if guess in guessed:\n",
    "            print(\"You already guessed that letter.\")\n",
    "            continue\n",
    "\n",
    "        # Check guess\n",
    "        if guess in word:\n",
    "            print(f\"Good job! '{guess}' is in the word.\")\n",
    "            guessed.add(guess)\n",
    "        else:\n",
    "            print(f\"Sorry! '{guess}' is not in the word.\")\n",
    "            wrong_guesses += 1\n",
    "            guessed.add(guess)\n",
    "\n",
    "    else:\n",
    "        # Player lost\n",
    "        print(HANGMAN_PICS[wrong_guesses])\n",
    "        print(\"\\nGame Over! The word was:\", word)\n",
    "\n",
    "# Run game\n",
    "if __name__ == \"__main__\":\n",
    "    play_hangman()"
   ]
  },
  {
   "cell_type": "code",
   "execution_count": null,
   "id": "3f2d846d-ec71-4be5-84b9-5339c27d01dd",
   "metadata": {},
   "outputs": [],
   "source": []
  }
 ],
 "metadata": {
  "kernelspec": {
   "display_name": "Python 3 (ipykernel)",
   "language": "python",
   "name": "python3"
  },
  "language_info": {
   "codemirror_mode": {
    "name": "ipython",
    "version": 3
   },
   "file_extension": ".py",
   "mimetype": "text/x-python",
   "name": "python",
   "nbconvert_exporter": "python",
   "pygments_lexer": "ipython3",
   "version": "3.12.7"
  }
 },
 "nbformat": 4,
 "nbformat_minor": 5
}
